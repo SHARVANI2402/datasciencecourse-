{
 "cells": [
  {
   "cell_type": "markdown",
   "id": "53d98bfd-9754-4efa-926e-2b347ba91cea",
   "metadata": {},
   "source": [
    "# Data Science Tools and Ecosystem "
   ]
  },
  {
   "cell_type": "markdown",
   "id": "db000792-a469-4c60-a4f3-94214df24766",
   "metadata": {},
   "source": [
    "In this notebook , data science and ecosystem are summarized "
   ]
  },
  {
   "cell_type": "markdown",
   "id": "0132abcb-e7ee-4b9a-882c-fcda824206f2",
   "metadata": {},
   "source": [
    "Some of the popular languages that Data Scientists use are:\n",
    "1. python\n",
    "2. SQL\n",
    "3. R"
   ]
  },
  {
   "cell_type": "markdown",
   "id": "c7865e91-29e0-47a8-8227-691e88b04458",
   "metadata": {},
   "source": [
    "Some of the commonly used libraries used by Data Scientists include:\n",
    "1. Matplotlib\n",
    "2. Pandas\n",
    "3. NumPy"
   ]
  },
  {
   "cell_type": "markdown",
   "id": "da7d2f08-1eb3-42cd-8828-3f841aa8be9a",
   "metadata": {},
   "source": [
    "### Data Science Tools \n"
   ]
  },
  {
   "cell_type": "markdown",
   "id": "7af2874e-aabb-49ad-9efa-0ab1e08d2573",
   "metadata": {},
   "source": [
    "| Data Science Tools |\n",
    "|--------------------|\n",
    "| Apache Spark       |\n",
    "| Apache Hadoop      |\n",
    "| Jupyter Notebook   |"
   ]
  },
  {
   "cell_type": "markdown",
   "id": "4c18d85a-f22c-42ae-9d8d-687a5b0a027b",
   "metadata": {},
   "source": [
    "### Below are a few examples of evaluating arithmetic expressions in Python\n"
   ]
  },
  {
   "cell_type": "markdown",
   "id": "309042e7-b804-47f5-a004-9bb665e2980a",
   "metadata": {},
   "source": [
    "This a simple arithmetic expression to mutiply then add integers"
   ]
  },
  {
   "cell_type": "code",
   "execution_count": 1,
   "id": "d6c8860d-bbe1-4341-898c-5fb4d0392a4d",
   "metadata": {},
   "outputs": [
    {
     "data": {
      "text/plain": [
       "17"
      ]
     },
     "execution_count": 1,
     "metadata": {},
     "output_type": "execute_result"
    }
   ],
   "source": [
    "(3*4)+5"
   ]
  },
  {
   "cell_type": "markdown",
   "id": "01013944-ae0b-4916-a479-0c1c36763050",
   "metadata": {},
   "source": [
    "This will convert 200 minutes to hours by diving by 60"
   ]
  },
  {
   "cell_type": "code",
   "execution_count": 2,
   "id": "0d892608-b6aa-410a-a5d9-e8f16f934c06",
   "metadata": {},
   "outputs": [
    {
     "data": {
      "text/plain": [
       "3.3333333333333335"
      ]
     },
     "execution_count": 2,
     "metadata": {},
     "output_type": "execute_result"
    }
   ],
   "source": [
    "(200)/60"
   ]
  },
  {
   "cell_type": "markdown",
   "id": "a99fd086-4de3-4533-ace3-bf2f23715070",
   "metadata": {},
   "source": [
    "## **Objectives**\n",
    "\n",
    "* List popular languages for data science\n",
    "* list popular libraries for data science\n",
    "* show simple arithematic expressions"
   ]
  },
  {
   "cell_type": "markdown",
   "id": "0e6661b3-123c-4330-85bd-7ca4c16f5f6b",
   "metadata": {},
   "source": [
    "## Author\n",
    "Sharvani Sharma "
   ]
  },
  {
   "cell_type": "code",
   "execution_count": null,
   "id": "89f16a19-4206-4bd2-b276-ae4aaa3d0a90",
   "metadata": {},
   "outputs": [],
   "source": []
  }
 ],
 "metadata": {
  "kernelspec": {
   "display_name": "Python 3 (ipykernel)",
   "language": "python",
   "name": "python3"
  },
  "language_info": {
   "codemirror_mode": {
    "name": "ipython",
    "version": 3
   },
   "file_extension": ".py",
   "mimetype": "text/x-python",
   "name": "python",
   "nbconvert_exporter": "python",
   "pygments_lexer": "ipython3",
   "version": "3.12.8"
  }
 },
 "nbformat": 4,
 "nbformat_minor": 5
}
