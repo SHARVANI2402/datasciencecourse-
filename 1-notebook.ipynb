{
  "metadata": {
    "kernelspec": {
      "name": "python",
      "display_name": "Python (Pyodide)",
      "language": "python"
    },
    "language_info": {
      "codemirror_mode": {
        "name": "python",
        "version": 3
      },
      "file_extension": ".py",
      "mimetype": "text/x-python",
      "name": "python",
      "nbconvert_exporter": "python",
      "pygments_lexer": "ipython3",
      "version": "3.8"
    }
  },
  "nbformat_minor": 5,
  "nbformat": 4,
  "cells": [
    {
      "id": "1686042d-9171-49bb-b450-9aabb05a164b",
      "cell_type": "markdown",
      "source": "# Data Science Tools and Ecosystem\n",
      "metadata": {}
    },
    {
      "id": "da3e423e-953c-46ff-9ad4-449dd08991f4",
      "cell_type": "markdown",
      "source": "In this notebook, Data Science Tools and Ecosystem are sumarized \n",
      "metadata": {}
    },
    {
      "id": "cac41429-0244-4176-b2ec-3212f424158c",
      "cell_type": "markdown",
      "source": "## Some of the popular languages that Data scientist use are:\n\n1. Python\n2. SQL\n3. R\n",
      "metadata": {}
    },
    {
      "id": "ff6c6dd7-c85b-4807-9ea3-eef6d81ddaa2",
      "cell_type": "markdown",
      "source": "## Some of the commonly used libraries by Data Scientists include:\n\n1. Matplotlib\n2. Pandas\n3. NumPy",
      "metadata": {}
    },
    {
      "id": "c9b86338-a208-412f-bb4c-22a95dbeac32",
      "cell_type": "markdown",
      "source": "| Data Science Tools |\n|--------------------|\n| Apache Spark       |\n| Jupyter Notebook   |\n| Apache Hadoop      |",
      "metadata": {}
    },
    {
      "id": "790db6f0-7c12-47b0-a289-0592404c4001",
      "cell_type": "markdown",
      "source": "### Below are a few examples of evaluating arithmetic expressions in Python",
      "metadata": {}
    },
    {
      "id": "43073c71-9ecb-4726-b8a5-b06735c37859",
      "cell_type": "code",
      "source": "# this is a simple arithmetic expression to multiple then add intergers ",
      "metadata": {
        "trusted": true
      },
      "outputs": [],
      "execution_count": 1
    },
    {
      "id": "74f65e0b-30c9-4ec9-b395-87e3a5a9ce74",
      "cell_type": "code",
      "source": "(3*4) + 5",
      "metadata": {
        "trusted": true
      },
      "outputs": [
        {
          "execution_count": 2,
          "output_type": "execute_result",
          "data": {
            "text/plain": "17"
          },
          "metadata": {}
        }
      ],
      "execution_count": 2
    },
    {
      "id": "06bcfba6-f5fe-4636-b3c1-065b898eabf1",
      "cell_type": "code",
      "source": "# This will convert 200 minutes into hours by dividing by 60",
      "metadata": {
        "trusted": true
      },
      "outputs": [],
      "execution_count": 3
    },
    {
      "id": "af30afbe-9aad-464b-8795-737eda89e465",
      "cell_type": "code",
      "source": "(200)/60",
      "metadata": {
        "trusted": true
      },
      "outputs": [
        {
          "execution_count": 4,
          "output_type": "execute_result",
          "data": {
            "text/plain": "3.3333333333333335"
          },
          "metadata": {}
        }
      ],
      "execution_count": 4
    },
    {
      "id": "b9f688a8-db87-4e8a-b645-63955ab8eab3",
      "cell_type": "markdown",
      "source": "# **Objectives**\n* python\n* SQL\n* R",
      "metadata": {}
    },
    {
      "id": "9cefec9c-1f74-4b18-8f0b-8b0e11ae7519",
      "cell_type": "markdown",
      "source": "## Author\nSharvani Sharma ",
      "metadata": {}
    },
    {
      "id": "45aa128a-3c39-47aa-9c9b-d9c9f881d5d9",
      "cell_type": "code",
      "source": "",
      "metadata": {
        "trusted": true
      },
      "outputs": [],
      "execution_count": null
    }
  ]
}